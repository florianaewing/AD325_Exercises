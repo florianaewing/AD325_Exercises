{
 "cells": [
  {
   "cell_type": "markdown",
   "metadata": {},
   "source": [
    "Design a HashMap without using any built-in hash table libraries.\n",
    "\n",
    "Implement the MyHashMap class:\n",
    "\n",
    "MyHashMap() initializes the object with an empty map.\n",
    "void put(int key, int value) inserts a (key, value) pair into the HashMap. If the key already exists in the map, update the corresponding value.\n",
    "int get(int key) returns the value to which the specified key is mapped, or -1 if this map contains no mapping for the key.\n",
    "void remove(key) removes the key and its corresponding value if the map contains the mapping for the key."
   ]
  },
  {
   "cell_type": "code",
   "execution_count": 1,
   "metadata": {},
   "outputs": [
    {
     "name": "stdout",
     "output_type": "stream",
     "text": [
      "1\n",
      "-1\n",
      "1\n",
      "-1\n"
     ]
    }
   ],
   "source": [
    "class MyHashMap:\n",
    "    def __init__(self):\n",
    "        # Initialize the HashMap with a fixed size\n",
    "        # Optimzed algorithm for best time complexity, but with awful space complexity (like 20Mb)\n",
    "        self.size = 1000  # You can adjust the size as needed\n",
    "        self.map = [\n",
    "            [] for _ in range(self.size)\n",
    "        ]  # Create a list of lists for separate chaining\n",
    "\n",
    "    def _hash(self, key):\n",
    "        # Hash function to calculate the index for a key\n",
    "        return key % self.size\n",
    "\n",
    "    def put(self, key, value):\n",
    "        # Insert or update the key-value pair\n",
    "        index = self._hash(key)\n",
    "        for i, (k, v) in enumerate(self.map[index]):\n",
    "            if k == key:\n",
    "                self.map[index][i] = (\n",
    "                    key,\n",
    "                    value,\n",
    "                )  # Update the value if key exists\n",
    "                return\n",
    "        self.map[index].append((key, value))  # Add the new key-value pair\n",
    "\n",
    "    def get(self, key):\n",
    "        # Return the value for the given key\n",
    "        index = self._hash(key)\n",
    "        for k, v in self.map[index]:\n",
    "            if k == key:\n",
    "                return v  # Key found, return value\n",
    "        return -1  # Key not found\n",
    "\n",
    "    def remove(self, key):\n",
    "        # Remove the key-value pair\n",
    "        index = self._hash(key)\n",
    "        for i, (k, v) in enumerate(self.map[index]):\n",
    "            if k == key:\n",
    "                del self.map[index][i]  # Remove the key-value pair\n",
    "                return\n",
    "\n",
    "\n",
    "# Example usage of our super cool MyHashMap\n",
    "if __name__ == \"__main__\":\n",
    "    my_hash_map = MyHashMap()  # Create our HashMap\n",
    "    my_hash_map.put(1, 1)  # Insert key-value pair (1, 1)\n",
    "    my_hash_map.put(2, 2)  # Insert key-value pair (2, 2)\n",
    "    print(my_hash_map.get(1))  # Should return 1\n",
    "    print(my_hash_map.get(3))  # Should return -1 (not found)\n",
    "    my_hash_map.put(2, 1)  # Update key 2 to value 1\n",
    "    print(my_hash_map.get(2))  # Should return 1\n",
    "    my_hash_map.remove(2)  # Remove key 2\n",
    "    print(my_hash_map.get(2))  # Should return -1 (not found)"
   ]
  },
  {
   "cell_type": "markdown",
   "metadata": {},
   "source": [
    "Given an list of integers called input, return True if any value appears at least twice in the array. Return False if every element in the input list is distinct.\n",
    "\n",
    "For example, if the input list was [1,3,5,7,1], then return True because the number 1 shows up twice.\n",
    "\n",
    "However, if the input was [1,3,5,7] then return False, because every element of the list is distinct.\n",
    "\n",
    "Because why NOT do both?"
   ]
  },
  {
   "cell_type": "code",
   "execution_count": 2,
   "metadata": {},
   "outputs": [
    {
     "name": "stdout",
     "output_type": "stream",
     "text": [
      "Duplicate found: 1\n",
      "True\n",
      "No duplicates found.\n",
      "False\n"
     ]
    }
   ],
   "source": [
    "def contains_duplicate(input) -> bool:\n",
    "    \"\"\"Check if the input list contains any duplicates.\"\"\"\n",
    "    seen = set()  # Set to store seen numbers\n",
    "    for number in input:\n",
    "        if number in seen:\n",
    "            print(\n",
    "                f\"Duplicate found: {number}\"\n",
    "            )  # For debugging: print the duplicate number\n",
    "            return True  # Found a duplicate\n",
    "        seen.add(number)  # Add the number to the seen set\n",
    "    print(\"No duplicates found.\")  # For debugging: indicate no duplicates\n",
    "    return False  # No duplicates found\n",
    "\n",
    "\n",
    "# Example usage:\n",
    "if __name__ == \"__main__\":\n",
    "    print(contains_duplicate([1, 3, 5, 7, 1]))  # Should return True\n",
    "    print(contains_duplicate([1, 3, 5, 7]))  # Should return False"
   ]
  }
 ],
 "metadata": {
  "kernelspec": {
   "display_name": "Python 3",
   "language": "python",
   "name": "python3"
  },
  "language_info": {
   "codemirror_mode": {
    "name": "ipython",
    "version": 3
   },
   "file_extension": ".py",
   "mimetype": "text/x-python",
   "name": "python",
   "nbconvert_exporter": "python",
   "pygments_lexer": "ipython3",
   "version": "3.12.7"
  }
 },
 "nbformat": 4,
 "nbformat_minor": 2
}
