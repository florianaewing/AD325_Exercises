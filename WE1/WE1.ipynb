{
 "cells": [
  {
   "cell_type": "markdown",
   "metadata": {},
   "source": [
    "Write a class named BankAccount where each object remembers information about a user's account at a bank. You must include the following public members:\n",
    "\n",
    "member name\ttype\tdescription\n",
    "BankAccount(name)\tconstructor\tconstructs a new account for the person with the given name, with $0.00 balance\n",
    "ba.name\tproperty\tthe account name as a string (read-only)\n",
    "ba.balance\tproperty\tthe account balance as a real number (read-only)\n",
    "ba.deposit(amount)\tmethod\tadds the given amount of money, as a real number, to the account balance; if the amount is negative, does nothing\n",
    "ba.withdraw(amount)\tmethod\tsubtracts the given amount of money, as a real number, from the account balance; if the amount is negative or exceeds the account's balance, does nothing\n",
    "\n",
    "You should define the entire class including the class heading, the private instance variables, and the declarations and definitions of all the public member functions and constructor."
   ]
  },
  {
   "cell_type": "code",
   "execution_count": 1,
   "metadata": {},
   "outputs": [],
   "source": [
    "class BankAccount:\n",
    "    def __init__(self, name):\n",
    "        \"\"\"Constructor that initializes the account with the owner's name and a balance of $0.00.\"\"\"\n",
    "        self._name = name         # Private instance variable for account owner's name\n",
    "        self._balance = 0.0       # Private instance variable for account balance\n",
    "\n",
    "    @property\n",
    "    def name(self):\n",
    "        \"\"\"Read-only property for the account owner's name.\"\"\"\n",
    "        return self._name\n",
    "\n",
    "    @property\n",
    "    def balance(self):\n",
    "        \"\"\"Read-only property for the account balance.\"\"\"\n",
    "        return self._balance\n",
    "\n",
    "    def deposit(self, amount):\n",
    "        \"\"\"Adds the given amount to the account balance. Ignores negative amounts.\"\"\"\n",
    "        if amount > 0:\n",
    "            self._balance += amount\n",
    "\n",
    "    def withdraw(self, amount):\n",
    "        \"\"\"Subtracts the given amount from the account balance. Ignores negative amounts or overdrafts.\"\"\"\n",
    "        if amount > 0 and amount <= self._balance:\n",
    "            self._balance -= amount\n",
    "\n"
   ]
  },
  {
   "cell_type": "markdown",
   "metadata": {},
   "source": [
    "Add a property to the BankAccount class named transaction_fee for a real number representing an amount of money to deduct every time the user withdraws money. Use your BankAccount class solution from the previous exercises as a starting point to solve this exercise.\n",
    "\n",
    "Suppose that a class of objects named BankAccount has already been created that remembers information about a user's account at a bank. The class includes the following public members:\n",
    "\n",
    "member name\ttype\tdescription\n",
    "BankAccount(name)\tconstructor\tconstructs a new account for the person with the given name, with $0.00 balance\n",
    "ba._name,\n",
    "ba._balance\tdata attributes\tprivate attributes storing account's name and balance\n",
    "ba.name\tproperty\tthe account name as a string (read-only)\n",
    "ba.balance\tproperty\tthe account balance as a real number (read-only)\n",
    "ba.deposit(amount)\tmethod\tadds the given amount of money, as a real number, to the account balance; if the amount is negative, does nothing\n",
    "ba.withdraw(amount)\tmethod\tsubtracts the given amount of money, as a real number, from the account balance; if the amount is negative or exceeds the account's balance, does nothing\n",
    "Add a property to the class named transaction_fee for a real number representing an amount of money to deduct every time the user withdraws. The default value is $0.00, but the client can change the value. Deduct the transaction fee money during every withdraw call (but not from deposits). Make sure that the balance cannot go negative during a withdrawal. If the withdrawal (amount plus transaction fee) would cause it to become negative, don't modify the balance at all. Do not allow negative transaction fees; if the client attempts to set a negative transaction fee, leave its value unchanged.\n",
    "\n",
    "Since adding this property changes several parts of the class, write and submit an entirely new version of the complete BankAccount class, along with its constructors, properties, methods, etc. You may want to copy/paste your solution from the BankAccount exercise as a starting point."
   ]
  },
  {
   "cell_type": "code",
   "execution_count": 2,
   "metadata": {},
   "outputs": [],
   "source": [
    "class BankAccount:\n",
    "    def __init__(self, name):\n",
    "        self._name = name\n",
    "        self._balance = 0.0\n",
    "        self._transaction_fee = 0.0\n",
    "\n",
    "    @property\n",
    "    def name(self):\n",
    "        return self._name\n",
    "\n",
    "    @property\n",
    "    def balance(self):\n",
    "        return self._balance\n",
    "\n",
    "    @property\n",
    "    def transaction_fee(self):\n",
    "        return self._transaction_fee\n",
    "\n",
    "    @transaction_fee.setter\n",
    "    def transaction_fee(self, fee):\n",
    "        if fee >= 0:\n",
    "            self._transaction_fee = fee\n",
    "\n",
    "    def deposit(self, amount):\n",
    "        if amount > 0:\n",
    "            self._balance += amount\n",
    "\n",
    "    def withdraw(self, amount):\n",
    "        total_deduction = amount + self._transaction_fee\n",
    "        if amount > 0 and total_deduction <= self._balance:\n",
    "            self._balance -= total_deduction\n"
   ]
  },
  {
   "cell_type": "markdown",
   "metadata": {},
   "source": [
    "Add a __str__ method to the BankAccount class. Use your BankAccount class solution from the previous exercises as a starting point to solve this exercise.\n",
    "\n",
    "Suppose that a class of objects named BankAccount has already been created that remembers information about a user's account at a bank. The class includes the following public members:\n",
    "\n",
    "member name\ttype\tdescription\n",
    "BankAccount(name)\tconstructor\tconstructs a new account for the person with the given name, with $0.00 balance\n",
    "ba._name,\n",
    "ba._balance\tdata attributes\tprivate attributes storing account's name and balance\n",
    "ba.name\tproperty\tthe account name as a string (read-only)\n",
    "ba.balance\tproperty\tthe account balance as a real number (read-only)\n",
    "ba.deposit(amount)\tmethod\tadds the given amount of money, as a real number, to the account balance; if the amount is negative, does nothing\n",
    "ba.withdraw(amount)\tmethod\tsubtracts the given amount of money, as a real number, from the account balance; if the amount is negative or exceeds the account's balance, does nothing\n",
    "Add a __str__ method to the class that returns a string containing the account's name and balance separated by a comma and space. Round the balance to two digits after the decimal point. For example, if an account object named yana has the name \"Mariana\" and a balance of 3.5 (representing $3.50), the call str(yana) should return the string \"Mariana, $3.50\". Submit only your __str__ method, not the complete class."
   ]
  },
  {
   "cell_type": "code",
   "execution_count": 3,
   "metadata": {},
   "outputs": [],
   "source": [
    "def __str__(self):\n",
    "    return f\"{self.name}, ${self.balance:.2f}\""
   ]
  },
  {
   "cell_type": "markdown",
   "metadata": {},
   "source": [
    "Write a recursive function named factorial that accepts an integer n as a parameter and returns the factorial of n, or n!. A factorial of an integer is defined as the product of all integers from 1 through that integer inclusive. For example, the call of factorial(4) should return 1 * 2 * 3 * 4, or 24. The factorial of 0 and 1 are defined to be 1. You may assume that the value passed is non-negative and that its factorial can fit in the range of type int.\n",
    "\n",
    "Do not use loops or auxiliary data structures; solve the problem recursively."
   ]
  },
  {
   "cell_type": "code",
   "execution_count": 4,
   "metadata": {},
   "outputs": [],
   "source": [
    "def factorial(n):\n",
    "    if n == 0 or n == 1:\n",
    "        return 1\n",
    "    else:\n",
    "        return n * factorial(n - 1)\n"
   ]
  },
  {
   "cell_type": "markdown",
   "metadata": {},
   "source": [
    "Given a number nn, write a formula that returns n!n!.\n",
    "In case you forgot the factorial formula, n!=n∗(n−1)∗(n−2)∗.....2∗1n!=n∗(n−1)∗(n−2)∗.....2∗1.\n",
    "For example, 5!=5∗4∗3∗2∗1=1205!=5∗4∗3∗2∗1=120 so we'd return 120.\n",
    "Assume is nn is a non-negative integer."
   ]
  },
  {
   "cell_type": "code",
   "execution_count": 5,
   "metadata": {},
   "outputs": [],
   "source": [
    "def factorial(n):\n",
    "    # Base case: If n is 0 or 1, the factorial is simply 1.\n",
    "    # Why? Because 0! and 1! are both defined as 1 by convention.\n",
    "    # Think of it as the 'no-multiplication-needed' case.\n",
    "    if n == 0 or n == 1:\n",
    "        return 1\n",
    "    else:\n",
    "        # Recursive case: Multiply n by the factorial of (n - 1).\n",
    "        # We keep breaking down the problem into smaller pieces\n",
    "        # until we reach that sweet base case.\n",
    "        # Each recursive call peels off one layer of n until\n",
    "        # it hits the base case and works its way back up.\n",
    "        return n * factorial(n - 1)"
   ]
  }
 ],
 "metadata": {
  "kernelspec": {
   "display_name": "Python 3",
   "language": "python",
   "name": "python3"
  },
  "language_info": {
   "codemirror_mode": {
    "name": "ipython",
    "version": 3
   },
   "file_extension": ".py",
   "mimetype": "text/x-python",
   "name": "python",
   "nbconvert_exporter": "python",
   "pygments_lexer": "ipython3",
   "version": "3.12.7"
  }
 },
 "nbformat": 4,
 "nbformat_minor": 2
}
