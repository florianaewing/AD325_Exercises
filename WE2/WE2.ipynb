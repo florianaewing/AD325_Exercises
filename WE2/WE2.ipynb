{
 "cells": [
  {
   "cell_type": "markdown",
   "metadata": {},
   "source": [
    "Write a function named check_balance that accepts a string of source code and uses a list to check whether the braces/parentheses are balanced. Every ( or { must be closed by a } or ) in the opposite order. Return the index at which an imbalance occurs, or -1 if the string is balanced. If any ( or { are never closed, return the string's length.\n",
    "\n",
    "Here are some example calls:\n",
    "\n",
    "#    index   0123456789012345678901234567890\n",
    "check_balance(\"if a(4) > 9: foo(a(2)) }\")      # returns -1 because balanced\n",
    "\n",
    "check_balance(\"for (i=0i&lta(3}i += 1): foo{) )\")   # returns 14 because } out of order\n",
    "\n",
    "check_balance(\"while True) foo() }{ ()\"         # returns 20 because } doesn't match any {\n",
    "    \n",
    "check_balance(\"if x:\")                          # returns 8 because { is never closed"
   ]
  },
  {
   "cell_type": "code",
   "execution_count": null,
   "metadata": {},
   "outputs": [],
   "source": [
    "def check_balance(code):\n",
    "    stack = []\n",
    "    matching_braces = {')': '(', '}': '{'}\n",
    "\n",
    "    for index, char in enumerate(code):\n",
    "        if char in '({':\n",
    "            stack.append(char)\n",
    "        elif char in ')}':\n",
    "            if not stack or stack[-1] != matching_braces[char]:\n",
    "                return index\n",
    "            stack.pop()\n",
    "\n",
    "    if stack:\n",
    "        return len(code)\n",
    "\n",
    "    return -1"
   ]
  },
  {
   "cell_type": "markdown",
   "metadata": {},
   "source": [
    "Write a function named count_duplicates that accepts a list of integers as a parameter and that returns the number of duplicate values in the list. A duplicate value is a value that also occurs earlier in the list. For example, if a list named a contains [1, 4, 2, 4, 7, 1, 1, 9, 2, 3, 4, 1], then the call of count_duplicates(a) should return 6 because there are three duplicates of the value 1, one duplicate of the value 2, and two duplicates of the value 4.\n",
    "\n",
    "Constraints: The list could be empty or could contain only a single element in such cases, your function should return 0. Do not modify the contents of the list."
   ]
  },
  {
   "cell_type": "code",
   "execution_count": null,
   "metadata": {},
   "outputs": [],
   "source": [
    "def count_duplicates(lst):\n",
    "    seen = set()\n",
    "    duplicates = 0\n",
    "\n",
    "    for num in lst:\n",
    "        if num in seen:\n",
    "            duplicates += 1\n",
    "        else:\n",
    "            seen.add(num)\n",
    "\n",
    "    return duplicates"
   ]
  },
  {
   "cell_type": "markdown",
   "metadata": {},
   "source": [
    "Write a function named is_stack_sorted accepts a list of integers as a parameter and treats it as a stack, returning True if the elements in the stack occur in ascending (non-decreasing) order from bottom (end) to top (front), else False. This essentially means that you are checking whether the list is in reverse-sorted order. An empty or one-element stack is considered to be sorted. For example, if passed the following stack, your function should return True:\n",
    "\n",
    "[20, 20, 17, 11, 8, 8, 3, 2]\n",
    "The following stack is not sorted (the 15 is out of place), so passing it to your function should return a result of False:\n",
    "\n",
    "[18, 12, 15, 6, 1]\n",
    "You should treat the list as a stack and not use any index-related operations on it. This means that the only operations you should use on the list are the pop and append functions and the len function. You should not use the [] indexing operator nor any other operations that depend on accessing various elements by index. You also should not use a for-each loop over the stack's elements.\n",
    "\n",
    "When your function returns, the stack should be in the same state as when it was passed in. In other words, if your function modifies the stack, you must restore it before returning.\n",
    "\n",
    "Constraints: You may use one list as auxiliary storage. Do not declare any other auxiliary data structures, but you can have as many simple variables as you like. Your solution should run in O(N) time, where N is the number of elements of the list."
   ]
  },
  {
   "cell_type": "code",
   "execution_count": null,
   "metadata": {},
   "outputs": [],
   "source": [
    "def is_stack_sorted(stack):\n",
    "    if len(stack) <= 1:\n",
    "        return True\n",
    "    \n",
    "    temp_stack = []\n",
    "    sorted_order = True\n",
    "    previous = stack.pop()\n",
    "\n",
    "    while stack:\n",
    "        current = stack.pop()\n",
    "        if current < previous:\n",
    "            sorted_order = False\n",
    "        temp_stack.append(previous)\n",
    "        previous = current\n",
    "\n",
    "    temp_stack.append(previous)\n",
    "\n",
    "    while temp_stack:\n",
    "        stack.append(temp_stack.pop())\n",
    "\n",
    "    return sorted_order"
   ]
  },
  {
   "cell_type": "markdown",
   "metadata": {},
   "source": [
    "Write a function named median that accepts a list of integers as its argument and returns the median of the numbers in the list. The median is the number that will appear in the middle if you arrange the elements in order. Assume that the list is of odd size (so that one sole element constitutes the median) and that the numbers in the list are between 0 and 99 inclusive.\n",
    "\n",
    "For example, the median of [5, 2, 4, 17, 55, 4, 3, 26, 18, 2, 17] is 5, and the median of [42, 37, 1, 97, 1, 2, 7, 42, 3, 25, 89, 15, 10, 29, 27] is 25."
   ]
  },
  {
   "cell_type": "code",
   "execution_count": null,
   "metadata": {},
   "outputs": [],
   "source": [
    "def median(lst):\n",
    "    sorted_list = sorted(lst)\n",
    "    mid_index = len(sorted_list) // 2\n",
    "    return sorted_list[mid_index]"
   ]
  },
  {
   "cell_type": "markdown",
   "metadata": {},
   "source": [
    "Write a function to get the intersection of two lists.\n",
    "\n",
    "For example, if A = [1, 2, 3, 4, 5], and B = [0, 1, 3, 7] then you should return [1, 3]."
   ]
  },
  {
   "cell_type": "code",
   "execution_count": null,
   "metadata": {},
   "outputs": [],
   "source": [
    "def intersection(a, b):\n",
    "  # Let's supercharge our search by converting A into a set for lightning-fast lookups\n",
    "    set_A = set(a)\n",
    "    # Prepare to collect our awesome intersection results\n",
    "    intersection = []\n",
    "\n",
    "    # Time to dive into B and see what magic we can find\n",
    "    for element in b:\n",
    "        # If this element is a member of the elite set from A\n",
    "        if element in set_A:\n",
    "            # Add it to our intersection hall of fame!\n",
    "            intersection.append(element)\n",
    "\n",
    "    # Boom! Return our treasure trove of common elements (: \n",
    "    return intersection\n"
   ]
  },
  {
   "cell_type": "markdown",
   "metadata": {},
   "source": [
    "Implement a first in first out (FIFO) queue using only two stacks. The implemented queue should support all the functions of a normal queue (push, peek, pop, and empty).\n",
    "\n",
    "Implement the MyQueue class:\n",
    "\n",
    "void push(int x) Pushes element x to the back of the queue.\n",
    "int pop() Removes the element from the front of the queue and returns it.\n",
    "int peek() Returns the element at the front of the queue.\n",
    "boolean empty() Returns true if the queue is empty, false otherwise.\n",
    "Notes:\n",
    "\n",
    "You must use only standard operations of a stack, which means only push to top, peek/pop from top, size, and is empty operations are valid.\n",
    "Depending on your language, the stack may not be supported natively. You may simulate a stack using a list or deque (double-ended queue) as long as you use only a stack's standard operations.\n",
    " \n",
    "\n",
    "Example 1:\n",
    "\n",
    "Input\n",
    "[\"MyQueue\", \"push\", \"push\", \"peek\", \"pop\", \"empty\"]\n",
    "[[], [1], [2], [], [], []]\n",
    "Output\n",
    "[null, null, null, 1, 1, false]\n",
    "\n",
    "Explanation\n",
    "MyQueue myQueue = new MyQueue();\n",
    "myQueue.push(1); // queue is: [1]\n",
    "myQueue.push(2); // queue is: [1, 2] (leftmost is front of the queue)\n",
    "myQueue.peek(); // return 1\n",
    "myQueue.pop(); // return 1, queue is [2]\n",
    "myQueue.empty(); // return false\n",
    " \n",
    "\n",
    "Constraints:\n",
    "\n",
    "1 <= x <= 9\n",
    "At most 100 calls will be made to push, pop, peek, and empty.\n",
    "All the calls to pop and peek are valid."
   ]
  },
  {
   "cell_type": "code",
   "execution_count": null,
   "metadata": {},
   "outputs": [],
   "source": [
    "class MyQueue(object):\n",
    "\n",
    "    def __init__(self):\n",
    "        # Initialize two stacks: one for incoming elements and one for outgoing elements\n",
    "        self.stack_in = []\n",
    "        self.stack_out = []\n",
    "\n",
    "    def push(self, x):\n",
    "        # Push element x onto the input stack\n",
    "        self.stack_in.append(x)\n",
    "\n",
    "    def pop(self):\n",
    "        # Ensure the output stack has the front element\n",
    "        self.peek()\n",
    "        # Remove and return the top element from the output stack\n",
    "        return self.stack_out.pop()\n",
    "\n",
    "    def peek(self):\n",
    "        # If the output stack is empty, we need to transfer elements from the input stack\n",
    "        if not self.stack_out:\n",
    "            # Move all elements from the input stack to the output stack\n",
    "            while self.stack_in:\n",
    "                self.stack_out.append(self.stack_in.pop())\n",
    "        # The top of the output stack is the front of the queue\n",
    "        return self.stack_out[-1]\n",
    "\n",
    "    def empty(self):\n",
    "        # The queue is empty if both stacks are empty\n",
    "        return not self.stack_in and not self.stack_out"
   ]
  }
 ],
 "metadata": {
  "language_info": {
   "name": "python"
  }
 },
 "nbformat": 4,
 "nbformat_minor": 2
}
