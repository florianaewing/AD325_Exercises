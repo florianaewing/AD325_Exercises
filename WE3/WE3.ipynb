{
 "cells": [
  {
   "cell_type": "markdown",
   "metadata": {},
   "source": [
    "Write a recursive function named binary_search that accepts a sorted list of integers and an integer target value and uses a recursive binary search algorithm to find and return an index at which that target value is found in the list. If the target value is not found in the list, return -1. The following code shows some example calls and their expected return values:\n",
    "\n",
    "#     0   1   2   3   4   5   6   7   8   9  10  11  12  13  14  15  16\n",
    "a = [-4,  2,  7, 10, 15, 20, 22, 25, 30, 36, 42, 50, 56, 68, 85, 92, 103]\n",
    "\n",
    "index = binary_search(a, 42)   # 10\n",
    "index = binary_search(a, 66)   # -1\n",
    "You should assume that the list's elements are already sorted you do not need to handle the case of an unsorted list. Your function must be recursive and must use a binary search algorithm. Do not use loops or auxiliary data structures."
   ]
  },
  {
   "cell_type": "code",
   "execution_count": 9,
   "metadata": {},
   "outputs": [],
   "source": [
    "def binary_search(sorted_list, target_value, left_index=0, right_index=None):\n",
    "    if right_index is None:\n",
    "        right_index = len(sorted_list) - 1\n",
    "    \n",
    "    if left_index > right_index:\n",
    "        return -1\n",
    "    \n",
    "    middle_index = (left_index + right_index) // 2\n",
    "\n",
    "    if sorted_list[middle_index] == target_value:\n",
    "        return middle_index\n",
    "    elif sorted_list[middle_index] > target_value:\n",
    "        return binary_search(sorted_list, target_value, left_index, middle_index - 1)\n",
    "    else:\n",
    "        return binary_search(sorted_list, target_value, middle_index + 1, right_index)"
   ]
  },
  {
   "cell_type": "markdown",
   "metadata": {},
   "source": [
    "Trace the complete execution of the merge sort algorithm when called on the list below, similarly to the example trace of merge sort shown in the lecture slides. Show the sub-lists that are created by the algorithm and show the merging of sub-lists into larger sorted lists.\n",
    "\n",
    "# index     0   1  2   3   4   5   6   7\n",
    "numbers = [29, 17, 3, 94, 46,  8, -4, 12]\n",
    "merge_sort(numbers)\n",
    "Format your answers with each sub-list surrounded by { } braces, such as {1, 2} {3, 4}."
   ]
  },
  {
   "cell_type": "markdown",
   "metadata": {},
   "source": [
    "1st split\n",
    "{29,17,3,94}{46,8,-4,12}\n",
    "2nd split\n",
    "{29,17}{3,94}{46,8}{-4,12}\n",
    "3rd split\n",
    "{29}{17}{3}{94}{46}{8}{-4}{12}\n",
    "1st merge\n",
    "{17,29}{3,94}{8,46}{-4,12}\n",
    "2nd merge\n",
    "{3,17,29,94}{-4,8,12,46}\n",
    "3rd merge\n",
    "{-4,3,8,12,17,29,46,94}"
   ]
  },
  {
   "cell_type": "markdown",
   "metadata": {},
   "source": [
    "Suppose we are doing selection and merge sorts on the list below, and that we are operating on a computer where essentially every operation is cost-free (takes 0 time to execute) except for the act of assigning a value into a slot of the list passed in (such as setting V1[0] = 42), which requires 100 units of time. (Assigning a value to a normal variable, or into any other list or collection, requires no time in this hypothetical model.) How long does each algorithm take to run for this particular data under these particular conditions? Which sorting algorithm requires less time to run? Assume that selection does not perform a swap if not necessary, that is, if the two indexes of interest are the same.\n",
    "\n",
    "# index:\n",
    "#      0   1   2   3   4   5   6   7\n",
    "v1 = [15, 56, 24,  5, 39, -4, 27, 10]\n",
    "selection_sort(v1)\n",
    "\n",
    "v2 = [ 5, 56, 24,  5, 39, -4, 27, 10]\n",
    "merge_sort(v2)"
   ]
  },
  {
   "cell_type": "markdown",
   "metadata": {},
   "source": [
    "\n",
    "selection sort runtime\n",
    "→\n",
    "1400\n",
    "merge sort runtime    \n",
    "→\n",
    "800"
   ]
  },
  {
   "cell_type": "markdown",
   "metadata": {},
   "source": [
    "Given a list of salaries, we'll define a metric called inequity which is the difference between max and min salary seen in the list:\n",
    "inequity=max(input_list)−min(input_list)inequity=max(input_list)−min(input_list)\n",
    "Write a function called min_inequity which takes in a list of salaries, and a value n, and returns the minimum inequity possible when taking n salaries from the full salary list.\n",
    "If that was hard to understand, you're not alone – let's break it down with some examples.\n",
    "Example #1:\n",
    "salaries = [60000, 80000, 120000, 70000]\n",
    "n = 2\n",
    "The minimum inequity is $10,000, because max(60000,70000)−min(60000,70000)=10000max(60000,70000)−min(60000,70000)=10000.\n",
    "Example #2:\n",
    "salaries = [60000, 80000, 120000, 70000]\n",
    "n = 3\n",
    "The minimum inequity is $20,000, because max(60000,70000,80000)−min(60000,70000,80000)=20000max(60000,70000,80000)−min(60000,70000,80000)=20000."
   ]
  },
  {
   "cell_type": "code",
   "execution_count": 10,
   "metadata": {},
   "outputs": [],
   "source": [
    "def min_inequity(salaries, n):\n",
    "    # Step 1: Sort the salaries to line them up in ascending order\n",
    "    salaries.sort()\n",
    "    \n",
    "    # Initialize the minimum inequity to a ridiculously high value\n",
    "    # (like the sky's the limit, but we want something manageable)\n",
    "    minimum_inequity = float('inf')\n",
    "    \n",
    "    # Step 2: Slide a window of size n across the sorted salaries\n",
    "    for starting_index in range(len(salaries) - n + 1):\n",
    "        # Current subarray is from starting_index to starting_index + n - 1\n",
    "        # Calculate the inequity for this subarray\n",
    "        current_inequity = salaries[starting_index + n - 1] - salaries[starting_index]\n",
    "        \n",
    "        # Keep track of the smallest inequity we've seen\n",
    "        minimum_inequity = min(minimum_inequity, current_inequity)\n",
    "    \n",
    "    # Return the smallest inequity found, because we want the best deal possible!\n",
    "    return minimum_inequity"
   ]
  },
  {
   "cell_type": "markdown",
   "metadata": {},
   "source": [
    "Given the head of a singly linked list, sort the list using insertion sort, and return the sorted list's head.\n",
    "\n",
    "The steps of the insertion sort algorithm:\n",
    "\n",
    "Insertion sort iterates, consuming one input element each repetition and growing a sorted output list.\n",
    "At each iteration, insertion sort removes one element from the input data, finds the location it belongs within the sorted list and inserts it there.\n",
    "It repeats until no input elements remain.\n",
    "The following is a graphical example of the insertion sort algorithm. The partially sorted list (black) initially contains only the first element in the list. One element (red) is removed from the input data and inserted in-place into the sorted list with each iteration."
   ]
  },
  {
   "cell_type": "code",
   "execution_count": 11,
   "metadata": {},
   "outputs": [],
   "source": [
    "# Definition for singly-linked list.\n",
    "# NOT THE FASTEST SOLUTION ): would love to see the 1ms implementation\n",
    "class ListNode(object):\n",
    "    def __init__(self, val=0, next=None):\n",
    "        self.val = val\n",
    "        self.next = next\n",
    "\n",
    "class Solution(object):\n",
    "    def insertionSortList(self, head):\n",
    "        \"\"\"\n",
    "        :type head: ListNode\n",
    "        :rtype: ListNode\n",
    "        \"\"\"\n",
    "        # Let's roll with a dummy node to keep things clean\n",
    "        dummy = ListNode(0)  # This guy makes insertion logic a breeze\n",
    "        current = head  # Pointer to traverse the original list\n",
    "        \n",
    "        # Time to sort it up!\n",
    "        while current:\n",
    "            next_node = current.next  # Grab the next node before we break links\n",
    "            prev = dummy  # Start from our trusty dummy node\n",
    "            \n",
    "            # Find the right spot to insert the current node\n",
    "            while prev.next and prev.next.val < current.val:\n",
    "                prev = prev.next  # Move right until we find where to insert\n",
    "            \n",
    "            # Insert current between prev and prev.next\n",
    "            current.next = prev.next  # Connect current to the next node\n",
    "            prev.next = current  # Link the previous node to current\n",
    "            \n",
    "            # Move to the next node in the original list\n",
    "            current = next_node  # Keep rolling on the original list\n",
    "        \n",
    "        return dummy.next  # Return the head of the sorted list, right after the dummy\n",
    "        "
   ]
  },
  {
   "cell_type": "markdown",
   "metadata": {},
   "source": [
    "You are given two integer arrays nums1 and nums2, sorted in non-decreasing order, and two integers m and n, representing the number of elements in nums1 and nums2 respectively.\n",
    "\n",
    "Merge nums1 and nums2 into a single array sorted in non-decreasing order.\n",
    "\n",
    "The final sorted array should not be returned by the function, but instead be stored inside the array nums1. To accommodate this, nums1 has a length of m + n, where the first m elements denote the elements that should be merged, and the last n elements are set to 0 and should be ignored. nums2 has a length of n. \n",
    "\n",
    "Constraints:\n",
    "\n",
    "nums1.length == m + n\n",
    "nums2.length == n\n",
    "0 <= m, n <= 200\n",
    "1 <= m + n <= 200\n",
    "-109 <= nums1[i], nums2[j] <= 109"
   ]
  },
  {
   "cell_type": "code",
   "execution_count": 12,
   "metadata": {},
   "outputs": [],
   "source": [
    "class Solution(object):\n",
    "    def merge(self, nums1, num1_length, nums2, num2_length):\n",
    "        \"\"\"\n",
    "        :type nums1: List[int]\n",
    "        :type num1_length: int\n",
    "        :type nums2: List[int]\n",
    "        :type num2_length: int\n",
    "        :rtype: None Do not return anything, modify nums1 in-place instead.\n",
    "        \"\"\"\n",
    "        # Pointer for the last initialized element in nums1\n",
    "        last_initialized_index_nums1 = num1_length - 1\n",
    "        \n",
    "        # Pointer for the last element in nums2\n",
    "        last_index_nums2 = num2_length - 1\n",
    "        \n",
    "        # Pointer for the last position to fill in nums1\n",
    "        current_fill_index = num1_length + num2_length - 1\n",
    "        \n",
    "        # While there are elements in both nums1 and nums2\n",
    "        while last_initialized_index_nums1 >= 0 and last_index_nums2 >= 0:\n",
    "            # Compare the elements and place the larger one in the correct position\n",
    "            if nums1[last_initialized_index_nums1] > nums2[last_index_nums2]:\n",
    "                nums1[current_fill_index] = nums1[last_initialized_index_nums1]\n",
    "                last_initialized_index_nums1 -= 1  # Move the nums1 pointer left\n",
    "            else:\n",
    "                nums1[current_fill_index] = nums2[last_index_nums2]\n",
    "                last_index_nums2 -= 1  # Move the nums2 pointer left\n",
    "            \n",
    "            # Move the fill pointer left after placing an element\n",
    "            current_fill_index -= 1\n",
    "        \n",
    "        # If there are any remaining elements in nums2, place them in nums1\n",
    "        while last_index_nums2 >= 0:\n",
    "            nums1[current_fill_index] = nums2[last_index_nums2]\n",
    "            last_index_nums2 -= 1\n",
    "            current_fill_index -= 1"
   ]
  }
 ],
 "metadata": {
  "kernelspec": {
   "display_name": "Python 3",
   "language": "python",
   "name": "python3"
  },
  "language_info": {
   "codemirror_mode": {
    "name": "ipython",
    "version": 3
   },
   "file_extension": ".py",
   "mimetype": "text/x-python",
   "name": "python",
   "nbconvert_exporter": "python",
   "pygments_lexer": "ipython3",
   "version": "3.12.7"
  }
 },
 "nbformat": 4,
 "nbformat_minor": 2
}
